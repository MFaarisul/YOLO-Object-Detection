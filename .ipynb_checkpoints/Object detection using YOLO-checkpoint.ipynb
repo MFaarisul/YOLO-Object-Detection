{
 "cells": [
  {
   "cell_type": "code",
   "execution_count": 1,
   "id": "f8a31b6c",
   "metadata": {},
   "outputs": [],
   "source": [
    "import cv2\n",
    "import numpy as np"
   ]
  },
  {
   "cell_type": "code",
   "execution_count": 3,
   "id": "ad1681f1",
   "metadata": {},
   "outputs": [],
   "source": [
    "#Get the coco classes label\n",
    "with open('Data//coco_labels.txt') as f:\n",
    "    labels = [line.strip() for line in f.readlines()]"
   ]
  },
  {
   "cell_type": "code",
   "execution_count": 5,
   "id": "5945602c",
   "metadata": {},
   "outputs": [],
   "source": [
    "#Load YOLO model\n",
    "net = cv2.dnn.readNet('Data//yolov3.weights', 'Data//yolov3.cfg')\n",
    "layer_names = net.getLayerNames()\n",
    "output_layers = [layer_names[i-1] for i in net.getUnconnectedOutLayers()]"
   ]
  },
  {
   "cell_type": "code",
   "execution_count": 52,
   "id": "f081a5b4",
   "metadata": {},
   "outputs": [],
   "source": [
    "img = cv2.imread('Images and Videos//Images 1.jpg') # Image_path\n",
    "h, w, _ = img.shape\n",
    "\n",
    "blob = cv2.dnn.blobFromImage(img, 0.00392, (320, 320), 0) #Shape: (1, 3, img_size, img_size)\n",
    "# Channels (RGB)\n",
    "# R = blob[0, 0, :, :]\n",
    "# G = blob[0, 1, :, :]\n",
    "# B = blob[0, 2, :, :]\n",
    "\n",
    "net.setInput(blob)\n",
    "# Detections shape (vectors of length 85):\n",
    "# 4x the bounding box (centerx, centery, width, height)\n",
    "# 1x box confidence\n",
    "# 80x class confidence\n",
    "detections = net.forward(output_layers)\n",
    "\n",
    "class_ids = []\n",
    "confidences = []\n",
    "box_coordinates = []\n",
    "for detection in detections:\n",
    "    for vec in detection:\n",
    "        # Extract class confidence\n",
    "        class_confidence = vec[5:]\n",
    "        class_id = np.argmax(class_confidence)\n",
    "        confidence = class_confidence[class_id]\n",
    "        # Try to change the threshold\n",
    "        if confidence > 0.5:\n",
    "            # Extract the coordinate of detected object in the images\n",
    "            center_x = int(vec[0] * w)\n",
    "            center_y = int(vec[1] * h)\n",
    "            width = int(vec[2] * w)\n",
    "            height = int(vec[3] * h)\n",
    "            \n",
    "            # Get the top left corner coordinate of the bounding boxes\n",
    "            left = int(center_x - width / 2)\n",
    "            top = int(center_y - height / 2)\n",
    "            class_ids.append(class_id)\n",
    "            confidences.append(confidence)\n",
    "            box_coordinates.append([left, top, width, height])\n",
    "\n",
    "# The same object that close to each other will be counted as 1 object\n",
    "# Try to change the threshold\n",
    "indexes = cv2.dnn.NMSBoxes(box_coordinates, confidences, 0.5, 0.4)\n",
    "# Set color for bounding boxes\n",
    "colors = np.random.uniform(0, 255, (len(labels), 3))\n",
    "\n",
    "for index in indexes:\n",
    "    left, top, width, height = box_coordinates[index]\n",
    "    label = labels[class_ids[index]]\n",
    "    #The same object will have the same color\n",
    "    color = colors[class_ids[index]]\n",
    "    font = cv2.FONT_HERSHEY_SIMPLEX\n",
    "    \n",
    "    cv2.rectangle(img, (left, top), (left+width, top+height), color, 2)\n",
    "    cv2.putText(img, label, (left, top+15), font, 0.5, (0,255,0), 2)\n",
    "\n",
    "#Show the final image\n",
    "cv2.imshow('img', img)\n",
    "\n",
    "cv2.waitKey(0)\n",
    "cv2.destroyAllWindows()"
   ]
  }
 ],
 "metadata": {
  "kernelspec": {
   "display_name": "Python 3 (ipykernel)",
   "language": "python",
   "name": "python3"
  },
  "language_info": {
   "codemirror_mode": {
    "name": "ipython",
    "version": 3
   },
   "file_extension": ".py",
   "mimetype": "text/x-python",
   "name": "python",
   "nbconvert_exporter": "python",
   "pygments_lexer": "ipython3",
   "version": "3.9.0"
  }
 },
 "nbformat": 4,
 "nbformat_minor": 5
}
